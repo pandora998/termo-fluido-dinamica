{
 "cells": [
  {
   "cell_type": "markdown",
   "id": "efa5b705-7525-4cb6-9e85-23cec1e1ce52",
   "metadata": {},
   "source": [
    "### Autor: Paula Domínguez Morales (855681)\n",
    "### Fecha: 20 de Enero de 2025\n",
    "\n",
    "---\n",
    "\n",
    "<p style=\"text-align: center;\">\n",
    "    <img src=\"img/Uax_Logo.jpg\" alt=\"Logo UAX\" style=\"width: 40%;\">\n",
    "</p>\n",
    "\n",
    "---\n",
    "\n",
    "# Termofluidodinámica\n",
    "\n",
    "## Estudio de una Caldera para Oxicombustión de Metano en Plantas de Cogeneración\n",
    "\n",
    "---\n",
    "\n",
    "### Introducción\n",
    "\n",
    "Este notebook documenta la resolución de los requisitos establecidos para evaluar el diseño y el funcionamiento de una caldera basada en oxicombustión de metano. Este análisis abarca desde las condiciones iniciales de arranque hasta los modos estacionarios de operación. También se explorarán aspectos clave como la eficiencia térmica, la generación de contaminantes y los posibles ajustes en el diseño para optimizar su rendimiento.\n",
    "\n",
    "El enunciado completo, con los detalles técnicos y los parámetros necesarios, se encuentra en el archivo adjunto dentro de la misma carpeta que este notebook. A continuación, se presenta un esquema de los puntos principales a resolver:\n",
    "\n",
    "---\n",
    "\n",
    "### Modelo de Arranque:\n",
    "1. **Cálculo de la temperatura teórica del quemador** para diferentes dosados (φ) hasta alcanzar el régimen estequiométrico.\n",
    "2. **Determinación de posibles cantidades de metano sin quemar** durante el arranque.\n",
    "3. **Verificación de las condiciones necesarias para la ignición espontánea**, considerando alternativas para el arranque.\n",
    "4. **Cálculo del área del cambiador de calor** para cumplir con los criterios de temperatura en el mezclador.\n",
    "5. **Estimación del retraso máximo permitido** entre el inicio de la llama de premezcla y el cierre de la escotilla.\n",
    "\n",
    "---\n",
    "\n",
    "### Modos Estacionarios:\n",
    "1. **Análisis de las configuraciones de funcionamiento**: \n",
    "   - *Modo A*: Condensador activado.\n",
    "   - *Modo B*: Condensador desactivado.\n",
    "2. **Evaluación de la cantidad de CH₄ y H₂O en recirculación** para cada modo.\n",
    "3. **Cálculo de la cantidad de CO₂ recirculado** en cada configuración.\n",
    "4. **Estudio de la longitud de la llama**, considerando si se desarrollan estructuras de Burke-Schumann.\n",
    "5. **Impacto de los modos de funcionamiento en la operación**, incluyendo ventajas y desventajas entre las configuraciones A y B.\n",
    "\n",
    "---\n",
    "\n",
    "### Viabilidad y Limitaciones del Diseño:\n",
    "Se discutirá la viabilidad de implementar este diseño de caldera para oxicombustión, evaluando aspectos como:\n",
    "\n",
    "1. **La efectividad del condensador**.\n",
    "2. **La idoneidad del metano como combustible**.\n",
    "3. **La necesidad de redimensionar componentes clave**.\n",
    "4. **Beneficios y limitaciones de los modos de operación propuestos**.\n",
    "\n",
    "---\n",
    "\n",
    "<p style=\"text-align: center;\">\n",
    "    <img src=\"img/Caldera.jpg\" aldth: 70%;\">\n",
    "</div>\n",
    "\n",
    "---\n"
   ]
  },
  {
   "cell_type": "markdown",
   "id": "719c8dbf",
   "metadata": {},
   "source": [
    "## Solución"
   ]
  },
  {
   "cell_type": "markdown",
   "id": "e5b22b28",
   "metadata": {},
   "source": [
    "#### Carga de librerías"
   ]
  },
  {
   "cell_type": "code",
   "execution_count": 137,
   "id": "352a2c30",
   "metadata": {},
   "outputs": [],
   "source": [
    "import math\n",
    "from matplotlib import pyplot as plt\n",
    "import numpy as np\n",
    "import pandas as pd\n",
    "from pyturb.gas_models.semiperfect_ideal_gas import SemiperfectIdealGas\n",
    "from pyturb.combustion.combustion_thermodynamics import Combustion\n",
    "\n",
    "aire = SemiperfectIdealGas('Air')\n",
    "Maire = aire.Mg*1e-3"
   ]
  },
  {
   "cell_type": "markdown",
   "id": "7f3b8ed0",
   "metadata": {},
   "source": [
    "#### Datos y propiedades de gas:"
   ]
  },
  {
   "cell_type": "code",
   "execution_count": 139,
   "id": "4cedf116",
   "metadata": {},
   "outputs": [],
   "source": [
    "o2 = SemiperfectIdealGas('O2')\n",
    "co2 = SemiperfectIdealGas('CO2')\n",
    "h2o = SemiperfectIdealGas('H2O')\n",
    "ch4 = SemiperfectIdealGas('CH4')\n",
    "\n",
    "MC = 12e-3 # kg/mol\n",
    "MN = 14e-3 # kg/mol\n",
    "MO = 16e-3 # kg/mol\n",
    "MH = 1e-3 # kg/mol\n",
    "\n",
    "MCO2 = MC + 2*MO\n",
    "MH2O = 2*MH + MO\n",
    "#MCH4 = MC + 4*MH\n",
    "MO2 = 2*MO"
   ]
  },
  {
   "cell_type": "markdown",
   "id": "04a497dc",
   "metadata": {},
   "source": [
    "#### Condiciones iniciales y de contorno"
   ]
  },
  {
   "cell_type": "code",
   "execution_count": 141,
   "id": "f94e0577",
   "metadata": {},
   "outputs": [],
   "source": [
    "Tamb = 278.93 #K\n",
    "T0 = Tamb\n",
    "pamb = 101325 #Pa\n",
    "P0 = pamb\n",
    "#V = 0.45 #m^3\n",
    "#Tmed = 750 #K\n",
    "Rg = aire.Ru #8.314 J/K mol"
   ]
  },
  {
   "cell_type": "markdown",
   "id": "413e481d-6d10-4e6f-ae6f-14903c23a897",
   "metadata": {},
   "source": [
    "#### Condiciones fracciones molares reales"
   ]
  },
  {
   "cell_type": "code",
   "execution_count": 143,
   "id": "d1f267ad-8d8e-48a1-ab33-cf145dee2527",
   "metadata": {},
   "outputs": [],
   "source": [
    "#FACCIONES MOLARES\n",
    "XCH4_r = 0.14470588\n",
    "XCO2_r = 0.2647059\n",
    "XH2O_r = 0.5294117\n",
    "XO2_r = 1 - (XCH4_r+XCO2_r+XH2O_r)\n",
    "phi_r = 1.4"
   ]
  },
  {
   "cell_type": "markdown",
   "id": "8fa4d342",
   "metadata": {},
   "source": [
    "#### Cinética química"
   ]
  },
  {
   "cell_type": "code",
   "execution_count": 145,
   "id": "ec54de08",
   "metadata": {},
   "outputs": [],
   "source": [
    "A0 = 6e9 #(mol/cm3/s)**)(1-a-b)\n",
    "a = -0.3\n",
    "b = 1.3\n",
    "EA = 30e3*4.184\n",
    "#Ta = EA / Rg\n",
    "Ta = EA*4184 / Rg"
   ]
  },
  {
   "cell_type": "markdown",
   "id": "79c25108",
   "metadata": {},
   "source": [
    "#### Combustible: Metano"
   ]
  },
  {
   "cell_type": "code",
   "execution_count": 147,
   "id": "8b993699",
   "metadata": {},
   "outputs": [],
   "source": [
    "ratio_equiv = 0.25\n",
    "LHV_metano = 50.0205e6 #J/kg\n",
    "HF_metano = 891e3 #J/mol\n",
    "alpha = 1\n",
    "beta = 4\n",
    "gamma = 0\n",
    "nFuel = 1"
   ]
  },
  {
   "cell_type": "markdown",
   "id": "e1ce6809",
   "metadata": {},
   "source": [
    "#### Datos Caldera"
   ]
  },
  {
   "cell_type": "code",
   "execution_count": 149,
   "id": "3384f2e3",
   "metadata": {},
   "outputs": [],
   "source": [
    "Tmax = 2500 #K\n",
    "Da = 50\n",
    "Vcaldera = 3.6e-3 #m3\n",
    "Lcaldera = 0.2 #m\n",
    "Acaldera = Vcaldera / Lcaldera\n",
    "P0 = 101325 #Pa\n",
    "P0_atm = P0*9.869e-6\n",
    "Pmax = 10e6 #Pa\n",
    "T0 = 273+25 #K\n",
    "Q_cambiadorCalor = -27500 #W Calor disipado en el cambiador de calor\n",
    "Q_ch4_0 = 4500 #cc/s CAUDAL\n",
    "Q_co2_0 = Q_ch4_0 #CAUDAL\n",
    "Ecorriente = 100000 #J #Energía turbina\n",
    "h_caldera = 1 #W/(m2 K) #Factor de conveccion caldera\n",
    "h_cambiadorCalor = 35 #W/(m2 K) #Factor de conveccion cambiadores de calor"
   ]
  },
  {
   "cell_type": "code",
   "execution_count": 150,
   "id": "0ed07ed5",
   "metadata": {},
   "outputs": [],
   "source": [
    "def estequiometria_hc(alpha,beta,gamma,nFuel):\n",
    "    \"\"\"\n",
    "    Calcula la estequiometría de una alcano asumiendo CnH2n+2Om donde n es el número de carbonos y m el de oxígenos presentes en el hidrocarburo.\n",
    "    nFuel es la cantidad (mol) de combustible empleado. Si no se especifica se toma 1mol.\n",
    "    \"\"\"\n",
    " \n",
    "    nCH4 = nFuel\n",
    "    nO2 = (alpha+beta/4-gamma/2)\n",
    "    #nN2 = nO2 * 79/21 \n",
    "    nCO2 = alpha\n",
    "    nH2O = beta/2\n",
    "    \n",
    "    #return nO2, nN2, nCO2, nH2O\n",
    "    return nCH4, nO2, nCO2, nH2O\n",
    "\n",
    "def dosado_estequiometrico(alpha, beta, gamma,nFuel):\n",
    "    \"\"\"\n",
    "    Calcula el dosado estequiométrico de un HC.\n",
    "    \"\"\"\n",
    "\n",
    "    nO2 = (alpha+beta/4-gamma/2)*nFuel\n",
    "    #nN2 = nO2 * 79/21 \n",
    "    #nCO2 = alpha*nFuel\n",
    "    #nH2O = beta/2\n",
    "    \n",
    "    Mfuel = alpha*MC + beta*MH #kg/mol\n",
    "    MComburente = nO2*(MO2)\n",
    "    \n",
    "    fs = Mfuel / MComburente\n",
    "    \n",
    "    return fs"
   ]
  },
  {
   "cell_type": "markdown",
   "id": "b775b4a4",
   "metadata": {},
   "source": [
    "## Cálculos iniciales:\n",
    "\n",
    "La situación describe una oxicombustión de metano, por lo que el primer paso es determinar la mezcla estequiométrica de los gases involucrados. "
   ]
  },
  {
   "cell_type": "markdown",
   "id": "fb575726",
   "metadata": {},
   "source": [
    "#### Parte estequiométrica de la reacción"
   ]
  },
  {
   "cell_type": "code",
   "execution_count": 153,
   "id": "95a06596",
   "metadata": {},
   "outputs": [],
   "source": [
    "nCH4_s, nO2_s, nCO2_s, nH2O_s = estequiometria_hc(alpha,beta,gamma,nFuel)"
   ]
  },
  {
   "cell_type": "code",
   "execution_count": 154,
   "id": "442d50d6",
   "metadata": {
    "scrolled": true
   },
   "outputs": [
    {
     "name": "stdout",
     "output_type": "stream",
     "text": [
      "Condición estequiométrica:\n",
      "nO2_s= 2.000mol; nCO2_s= 1.000mol;  nH2O_s= 2.000mol\n"
     ]
    }
   ],
   "source": [
    "print('Condición estequiométrica:')\n",
    "print('nO2_s={:6.3f}mol; nCO2_s={:6.3f}mol;  nH2O_s={:6.3f}mol'.format(nO2_s, nCO2_s, nH2O_s))"
   ]
  },
  {
   "cell_type": "markdown",
   "id": "5b88ca1e-a37d-4c30-bb8a-648fd6ccf7cd",
   "metadata": {},
   "source": [
    "#### Condiciones de dosado estequiométrico"
   ]
  },
  {
   "cell_type": "code",
   "execution_count": 156,
   "id": "f6a9500e-bd57-487d-8993-222c61099588",
   "metadata": {},
   "outputs": [
    {
     "name": "stdout",
     "output_type": "stream",
     "text": [
      "Dosado Estequiométrico: 0.25\n"
     ]
    }
   ],
   "source": [
    "f_s = dosado_estequiometrico(alpha,beta,gamma,nFuel)\n",
    "print(f\"Dosado Estequiométrico: {str(f_s)}\")"
   ]
  },
  {
   "cell_type": "markdown",
   "id": "f08850ce-83bb-48ed-a17c-2686107183dc",
   "metadata": {},
   "source": [
    "## Arranque\n",
    "\n",
    "Al entender la reacción, podemos determinar las cantidades estequiométricas de reactivos y productos. Con esta información, es posible iniciar el análisis del problema y abordar sus detalles específicos. Procederemos comenzando con la puesta en marcha de la máquina, considerando las siguientes cuestiones planteadas.\n",
    "\n",
    "1) ### La temperatura teórica de la caldera en el arranque si se hiciera un barrido de dosados de \\(f = 0\\) hasta \\(\\phi = 2\\)\n",
    "\n",
    "#### Procedimiento para una mezcla pobre:\n",
    "\n",
    "Se han propuesto dos enfoques para determinar la temperatura teórica al usar una mezcla con un dosado inferior a la relación estequiométrica:\n",
    "\n",
    "##### Primer enfoque:\n",
    "- Se parte de introducirn mode \\(CH_4\\) en la caldera, junto con la cantidad de aire necesaria para alcanzar un dosado menor a 1.\n",
    "- La única variable será la cantidad de oxígeno presente, tanto en los reactivos como en los productos. Los productos incluirán los gases generados en la reacción junto con el oxígeno excedente, calculado como el sobrante de una mezcla estequiométrica.\n",
    "- El calor liberado será constante, ya que se quema exactame  un l de \\(CH_4\\). Este dependerá del caloretano del ((t_n)LHV_{CH_4}\\)), de la  sa(mola)\\(M_{CH_4}\\)) y del número de moles.\n",
    "\n",
    "##### Segundo enfoque:\n",
    "En este método, se establece que la canad detano (\\(CH_4\\)) utilizada depende directamente del valor del dosado (\\(\\phi\\)). Esto permite que tanto el metano como el oxígeno sean variables dentro del sistema.\n",
    "\n",
    " La ntidad de \\(CH_4\\) presente en los reactivos se calcula como el producto del dosado y el número de moles necesario para una proporción estequiométrica.\n",
    "\n",
    "2. El oxígeno consumido durante la combustión se obtiene multiplandoos moles de \\(CH_4\\) por el coeficiente estequiométrico, que en este caso es 2.\n",
    "\n",
    "3. La cantidad de oxígeno restante en los productos se calcula restando el oxígeno quemado al oxígeno estequiométrico total.\n",
    "\n",
    "###### Energía liberada:\n",
    "El calor generado en la combustión vaa sen la cantidad de \\(CH_4\\) utilizado, ya que depende de cuántos moles de combustible reaccionan.\n",
    "\n",
    "Este procedimiento permite explorar diferentes valores del dosado y evaluar cómo afectan a la temperatura teórica en el sistema.\n",
    "\n",
    "Se trata de un enfoque más robusto, ya que genera un análisis más uniforme de las temperaturas obtenidas y refleja con mayor precisión los efectos del dosado en el sistema.\n",
    "en el sistema.\n"
   ]
  },
  {
   "cell_type": "code",
   "execution_count": 158,
   "id": "9a7191cd-0e7b-4e30-be44-7271c91f20f1",
   "metadata": {},
   "outputs": [
    {
     "name": "stdout",
     "output_type": "stream",
     "text": [
      "phi mezcla pobre= [0.1 0.2 0.3 0.4 0.5 0.6 0.7 0.8 0.9 1. ]\n",
      "Barrido de temperaturas en mezcla pobre [K] [1014.4716376  1573.59278219 2022.07023374 2389.78966185 2696.762641\n",
      " 2956.89346346 3180.14381404 3373.8376905  3543.48022044 3693.28928642]\n"
     ]
    }
   ],
   "source": [
    "# Enfoque 1:\n",
    "\n",
    "phi_pobre = np.linspace(0.1, 1, 10)  # Genera un rango de 10 valores de phi entre 0.1 y 1 (mezcla pobre)\n",
    "print('phi mezcla pobre=', phi_pobre)  # Imprime los valores de phi para la mezcla pobre\n",
    "\n",
    "# Para mezcla pobre\n",
    "\n",
    "MCH4 = alpha*MC + beta*MH # Masa molar del metano en kg/mol\n",
    "mfuel_s = nCH4_s*MCH4 # Masa del metano en kg\n",
    "\n",
    "mCH4_pobre = mfuel_s  # La cantidad de combustible es igual a la cantidad estequiométrica\n",
    "Qneto = 0.6 * (mCH4_pobre * LHV_metano)  # Calcula el calor neto liberado en la combustión considerando un 60% de eficiencia\n",
    "\n",
    "nO2_pobre_p = nO2_s / phi_pobre - alpha - beta / 4  # Calcula el oxígeno sobrante en los productos de la reacción\n",
    "\n",
    "Tad_pobre = (  # Calcula la temperatura adiabática de los productos\n",
    "    T0 +  # Suma la temperatura inicial\n",
    "    (Qneto) /  # Divide el calor neto entre la capacidad calorífica total de los productos\n",
    "    (\n",
    "        o2.cp_molar(T0) * nO2_pobre_p +  # Contribución del oxígeno al calor específico\n",
    "        co2.cp_molar(T0) * nO2_s +  # Contribución del dióxido de carbono al calor específico\n",
    "        h2o.cp_molar(T0) * nH2O_s  # Contribución del vapor de agua al calor específico\n",
    "    )\n",
    ")\n",
    "\n",
    "print('Barrido de temperaturas en mezcla pobre [K]', Tad_pobre)  # Imprime las temperaturas calculadas para cada valor de phi\n"
   ]
  },
  {
   "cell_type": "code",
   "execution_count": 159,
   "id": "2a48c9ce-ae97-413f-81ae-ce64ab793258",
   "metadata": {},
   "outputs": [
    {
     "name": "stdout",
     "output_type": "stream",
     "text": [
      "phi mezcla pobre= [0.1 0.2 0.3 0.4 0.5 0.6 0.7 0.8 0.9 1. ]\n",
      "Barrido de temperaturas adiabaticas mezcla pobre [K]\n",
      "[302.71466106 307.43476471 312.1603204  316.89133757 321.62782569\n",
      " 326.36979426 331.1172528  335.87021085 340.62867796 345.39266373]\n"
     ]
    }
   ],
   "source": [
    "# Enfoque 2: mejor aproximacion\n",
    "\n",
    "phi_pobre = np.linspace(0.1, 1, 10)  # Genera un rango de 10 valores de phi entre 0.1 y 1 para la mezcla pobre\n",
    "print('phi mezcla pobre=', phi_pobre)  # Imprime los valores de phi generados\n",
    "\n",
    "# Para mezcla pobre\n",
    "MCH4 = alpha*MC + beta*MH # Masa molar del metano en kg/mol\n",
    "mfuel_s = nCH4_s*MCH4 # Masa del metano en kg\n",
    "\n",
    "nCH4_pobre = phi_pobre * mfuel_s  # Calcula la cantidad de moles de CH4 en los reactivos para cada phi\n",
    "mCH4_pobre = nCH4_pobre * MCH4  # Calcula la masa de combustible (metano) en función de los moles y su masa molar\n",
    "\n",
    "Qneto = 0.6 * (mCH4_pobre * LHV_metano)  # Calcula el calor neto liberado en la combustión considerando un 60% de eficiencia\n",
    "\n",
    "nO2_s_pobre = nCH4_pobre * (alpha + beta / 4)  # Calcula el oxígeno consumido en la combustión según la proporción estequiométrica\n",
    "nO2_pobre_productos = nO2_s - nO2_s_pobre  # Calcula el oxígeno sobrante en los productos de la reacción\n",
    "\n",
    "Tad_pobre = (  # Calcula la temperatura adiabática de los productos para cada phi\n",
    "    T0 +  # Suma la temperatura inicial\n",
    "    (Qneto) /  # Divide el calor neto liberado entre la capacidad calorífica total de los productos\n",
    "    (\n",
    "        o2.cp_molar(T0) * nO2_pobre_productos +  # Contribución del oxígeno al calor específico\n",
    "        co2.cp_molar(T0) * nCO2_s +  # Contribución del dióxido de carbono al calor específico\n",
    "        h2o.cp_molar(T0) * nH2O_s  # Contribución del vapor de agua al calor específico\n",
    "    )\n",
    ")\n",
    "print(\"Barrido de temperaturas adiabaticas mezcla pobre [K]\")\n",
    "print(Tad_pobre)  # Imprime el resultado del barrido de temperaturas para la mezcla pobre\n"
   ]
  },
  {
   "cell_type": "code",
   "execution_count": 160,
   "id": "42c4e5ef",
   "metadata": {},
   "outputs": [
    {
     "name": "stdout",
     "output_type": "stream",
     "text": [
      "phi mezcla rica= [1.1 1.2 1.3 1.4 1.5 1.6 1.7 1.8 1.9 2. ]\n",
      "Barrido de temperaturas en mezcla rica [K] [4749.60222318 4607.05147603 4473.3470671  4347.69030672 4229.37584226\n",
      " 4117.77841065 4012.34178492 3912.56950213 3818.01704667 3728.28522904]\n"
     ]
    }
   ],
   "source": [
    "# Para mezcla rica\n",
    "\n",
    "phi_rica = np.linspace(1.1, 2, 10)  # Genera un rango de 10 valores de phi entre 1.1 y 2 (mezcla rica)\n",
    "print('phi mezcla rica=', phi_rica)  # Imprime los valores de phi para la mezcla rica\n",
    "\n",
    "mcomburente_s = nO2_s*(MO*2) # kg/mol\n",
    "\n",
    "nCH4_rica = phi_rica * f_s * mcomburente_s / mfuel_s  # Calcula los moles de CH4 presentes en la mezcla rica\n",
    "nCH4_rica_productos = nCH4_rica - nCH4_s  # Calcula los moles de CH4 no quemados en los productos\n",
    "\n",
    "Qneto = (0.6 * (mfuel_s * LHV_metano))  # Calcula el calor neto liberado en la combustión con un rendimiento del 60%\n",
    "\n",
    "Tad_rica = (  # Calcula la temperatura adiabática de los productos para la mezcla rica\n",
    "    T0 +  # Suma la temperatura inicial\n",
    "    Qneto /  # Divide el calor neto liberado entre la capacidad calorífica total de los productos\n",
    "    (\n",
    "        ch4.cp_molar(T0) * nCH4_rica_productos +  # Contribución del metano no quemado al calor específico\n",
    "        co2.cp_molar(T0) * nCO2_s +  # Contribución del dióxido de carbono al calor específico\n",
    "        h2o.cp_molar(T0) * nH2O_s  # Contribución del vapor de agua al calor específico\n",
    "    )\n",
    ")\n",
    "\n",
    "print('Barrido de temperaturas en mezcla rica [K]', Tad_rica)  # Imprime los valores calculados de la temperatura adiabática para cada phi\n"
   ]
  },
  {
   "cell_type": "code",
   "execution_count": 161,
   "id": "6369ff90-ab43-4cfc-ad9a-8f6eee2edec6",
   "metadata": {},
   "outputs": [
    {
     "name": "stdout",
     "output_type": "stream",
     "text": [
      "[0.1 0.2 0.3 0.4 0.5 0.6 0.7 0.8 0.9 1.  1.1 1.2 1.3 1.4 1.5 1.6 1.7 1.8\n",
      " 1.9 2. ]\n",
      "[ 302.71466106  307.43476471  312.1603204   316.89133757  321.62782569\n",
      "  326.36979426  331.1172528   335.87021085  340.62867796  345.39266373\n",
      " 4749.60222318 4607.05147603 4473.3470671  4347.69030672 4229.37584226\n",
      " 4117.77841065 4012.34178492 3912.56950213 3818.01704667 3728.28522904]\n"
     ]
    },
    {
     "data": {
      "image/png": "[encoded data removed]",
      "text/plain": [
       "<Figure size 640x480 with 1 Axes>"
      ]
     },
     "metadata": {},
     "output_type": "display_data"
    }
   ],
   "source": [
    "phi=np.concatenate((phi_pobre, phi_rica), axis=0)\n",
    "Tad = np.concatenate((Tad_pobre, Tad_rica), axis=0)\n",
    "print (phi)\n",
    "print (Tad)\n",
    "plt.plot(phi, Tad, color=\"green\")\n",
    "plt.title ( \"t\")\n",
    "plt.xlabel(\"phi\")\n",
    "plt.ylabel(\"tad\")\n",
    "\n",
    "plt.annotate(str(Tad[15]), xy=(phi[15], Tad[15]))\n",
    "plt.show() "
   ]
  },
  {
   "cell_type": "markdown",
   "id": "cda11559-0b60-4f49-bd03-c5c4c348aa6c",
   "metadata": {},
   "source": [
    "### 2) Si se quema todo el metano inyectado o si queda alguna cantidad sin quemar. En ese caso, calcular también la cantidad de metano inquemado, a pesar de la mezcla rica, en la llama de premezcla.\n",
    "\n",
    "#### Contexto de la mezcla rica\n",
    "En esta fase, la mezcla utilizada tiene un dosado phi = 1.4, lo que indica un exceso de combustible respecto a la cantidad estequiométrica de aire necesaria para una combustión completa. Este exceso genera condiciones donde el metano CH_4 podría no quemarse por completo.\n",
    "\n",
    "#### Fracciones molares de los productos\n",
    "Se determinan las fracciones molares de las especies presentes en los productos (\\(CH_4\\), \\(CO_2\\), \\(H_2O\\), \\(O_2\\)). En este caso, estas fracciones no suman 1, lo que indica que hay oxígeno residual en los productos. Esto implica que la combustión no es perfecta, dejando parte del combustible sin reaccionar.\n",
    "\n",
    "#### Cálculo de los moles totales\n",
    "La cantidad total de moles presentes en la caldera se calcula utilizando las condiciones iniciales del sistema (presión, volumen, constante de gases, y temperatura inicial). Este valor sirve como base para determinar los moles individuales de cada especie presente en los productos.\n",
    "\n",
    "#### Determinación de los moles de las especies en los productos\n",
    "Con las fracciones molares y los moles totales, se calculan los moles de cada especie en los productos (\\(CH_4\\), \\(CO_2\\), \\(H_2O\\), \\(O_2\\)). Estos valores permiten reconstruir la reacción química en función de las cantidades reales observadas en los productos.\n",
    "\n",
    "#### Identificación del metano no quemado\n",
    "El metano que no se ha quemado se calcula como la diferencia entre los moles de \\(CH_4\\) inyectados en los reactivos y los moles observados en los productos. Este valor es crucial para evaluar la eficiencia de la combustión y calcular el aporte energético real.\n",
    "\n",
    "#### Oxígeno quemado\n",
    "El oxígeno consumido durante la combustión se determina como la diferencia entre los moles iniciales en los reactivos y los moles residuales en los productos. Alternativamente, este valor también se puede calcular a partir de los moles de metano quemados y la relación estequiométrica correspondiente.\n",
    "\n",
    "#### Moles totales quemados\n",
    "Se calcula la suma de los moles de \\(CH_4\\) y \\(O_2\\) que reaccionaron. Este dato es importante para estimar la fracción molar de las especies involucradas en la reacción y establecer el balance energético.\n",
    "\n",
    "#### Consideraciones energéticas\n",
    "Dado que no todo el metano se quema, el aporte energético de la combustión debe calcularse únicamente con los moles de \\(CH_4\\) que realmente reaccionaro,n. Esto establece una base importante para las etapas posteriores del análisis.\n",
    "<"
   ]
  },
  {
   "cell_type": "code",
   "execution_count": 163,
   "id": "668c0318-da7b-498b-bec7-27ac6933cd86",
   "metadata": {},
   "outputs": [
    {
     "name": "stdout",
     "output_type": "stream",
     "text": [
      "dosado (phi=1.4) 0.35\n",
      "Moles Totales en los reactantes = 0.1472 \n",
      "Moles Totales en los productos = 0.1472\n"
     ]
    }
   ],
   "source": [
    "f_r = phi_r * f_s  # Calcula el dosado real de la mezcla\n",
    "print('dosado (phi=1.4)', f_r) \n",
    "\n",
    "n_total_s = P0 * Vcaldera / (Rg * T0)  # Moles totales estequiométricos en la caldera usando la ecuación de los gases ideales\n",
    "\n",
    "n_total_CH4_s = n_total_s / (1 + (alpha + beta / 4))  # Moles de CH4 en los reactivos estequiométricos dividiendo los moles totales entre la suma de los coeficientes estequiométricos.\n",
    "N_total_O2_s = n_total_s - n_total_CH4_s # Moles de O2 como la diferencia entre los moles totales y los de CH4\n",
    "\n",
    "nO2_r = n_total_s / (f_r * (MO2 / MCH4) + 1)  # Moles reales de O2 en reactantes en función del dosado real y las masas molares\n",
    "nCH4_r = f_r * (MO2 / MCH4) * nO2_r  # Moles de reactantes reales de CH4 en los reactivos a partir de los moles de O2 y el dosado real\n",
    "n_total_r = nCH4_r + nO2_r  # Moles totales reales de los reactivos, es la suma los moles de CH4 y O2\n",
    "XCH4_reactantes_r = nCH4_r/n_total_r\n",
    "XO2_reactantes_r = nO2_r/n_total_r\n",
    "\n",
    "n_total__productos_r = n_total_r  # Moles totales en los productos son iguales a los moles totales en los reactivos por conservación de la masa\n",
    "nCH4_productos_r = n_total__productos_r * XCH4_r  # Moles de CH4 en los productos multiplicando los moles totales por la fracción molar de CH4\n",
    "nCO2_productos_r = XCO2_r * n_total__productos_r  # Moles de CO2 en los productos\n",
    "nH2O_productos_r = XH2O_r * n_total__productos_r  # Moles de H2O en los productos\n",
    "nO2_productos_r = XO2_r * n_total__productos_r  # Moles de O2 en los productos\n",
    "\n",
    "n_total__productos_r = nCH4_productos_r + nCO2_productos_r + nH2O_productos_r + nO2_productos_r  # Recalcula los moles totales en los productos como la suma de los moles de todas las especies.\n",
    "print(f'Moles Totales en los reactantes = %-6.4f \\nMoles Totales en los productos = %-6.4f'% (n_total_r, n_total__productos_r))  # Imprime los moles totales en los reactantes y productos para confirmar la conservación de la masa.\n"
   ]
  },
  {
   "cell_type": "code",
   "execution_count": 164,
   "id": "fbae8afb-d2eb-4011-a7f3-e8e15f83f237",
   "metadata": {},
   "outputs": [
    {
     "name": "stdout",
     "output_type": "stream",
     "text": [
      "Moles de CH4 reactantes = 0.0606\n",
      "Moles de O2 reactantes = 0.0866\n",
      "Moles de CO2 productos = 0.0390\n",
      "Moles de H2O productos = 0.0779\n",
      "Moles de CH4 productos = 0.0213\n",
      "Moles de O2 productos = 0.0090\n",
      "Fracción molar CH4 reactante =0.4118\n",
      "Fracción molar O2 reactante =0.5882\n"
     ]
    }
   ],
   "source": [
    "print (f'Moles de CH4 reactantes = %-6.4f' %(nCH4_r))\n",
    "print (f'Moles de O2 reactantes = %-6.4f' %(nO2_r))\n",
    "   \n",
    "print (f'Moles de CO2 productos = %-6.4f' %(nCO2_productos_r))\n",
    "print (f'Moles de H2O productos = %-6.4f' %(nH2O_productos_r))\n",
    "\n",
    "print (f'Moles de CH4 productos = %-6.4f' %(nCH4_productos_r)) \n",
    "print (f'Moles de O2 productos = %-6.4f' %(nO2_productos_r))\n",
    "\n",
    "XCH4_reactantes_r = nCH4_r/n_total_r\n",
    "print (f'Fracción molar CH4 reactante =%-6.4f'%XCH4_reactantes_r)\n",
    "XO2_reactantes_r = nO2_r/n_total_r\n",
    "print (f'Fracción molar O2 reactante =%-6.4f'%XO2_reactantes_r)"
   ]
  },
  {
   "cell_type": "code",
   "execution_count": 165,
   "id": "64ec1164-85e5-41b6-aa61-eb6bc706d556",
   "metadata": {},
   "outputs": [
    {
     "name": "stdout",
     "output_type": "stream",
     "text": [
      "Moles quemados de O2 = 0.0776\n",
      "Moles quemados de CH4 = 0.0393\n",
      "Moles totales quemados = 0.1169\n",
      "Fracción molar CH4 quemado = 0.3363\n",
      "Fracción molar de O2 quemado = 0.6637\n"
     ]
    }
   ],
   "source": [
    "# Moles quemados\n",
    "\n",
    "nO2_quemados = nO2_r - nO2_productos_r  # Moles de O2 quemados como la diferencia entre los moles iniciales en los reactivos y los moles restantes en los productos\n",
    "print(f'Moles quemados de O2 = %-6.4f' % nO2_quemados)  # Moles de O2 que participaron en la combustión\n",
    "\n",
    "nCH4_quemados = nCH4_r - nCH4_productos_r  # Moles de CH4 quemados como la diferencia entre los moles iniciales en los reactivos y los moles restantes en los productos\n",
    "print(f'Moles quemados de CH4 = %-6.4f' % nCH4_quemados) \n",
    "\n",
    "nreactivos_quemados = nCH4_quemados + nO2_quemados  # Moles de CH4 y O2 quemados para obtener los moles totales que reaccionaron\n",
    "print(f'Moles totales quemados = %-6.4f' % nreactivos_quemados)  \n",
    "\n",
    "# Fracciones molares de lo quemado:\n",
    "XCH4_quemados = nCH4_quemados / nreactivos_quemados  # Fracción molar de CH4 quemado dividiendo los moles de CH4 quemados entre los moles totales quemados\n",
    "XO2_quemados = nO2_quemados / nreactivos_quemados  # Fracción molar de O2 quemado dividiendo los moles de O2 quemados entre los moles totales quemados\n",
    "\n",
    "print(f'Fracción molar CH4 quemado = %-6.4f' % XCH4_quemados)  \n",
    "print(f'Fracción molar de O2 quemado = %-6.4f' % XO2_quemados)  \n"
   ]
  },
  {
   "cell_type": "markdown",
   "id": "bd4a2b20-4276-4b0f-b6cd-ddccd01d3f62",
   "metadata": {},
   "source": [
    "### 3) Comprobar que la temperatura y la presión del recinto del quemador son suficientes para que se genere una llama de difusión sin necesidad de pilotar la ignición. En caso de no ser suficiente, calcular la presión de la caldera inicial (presión de metano y oxígeno) que debería haber para cumplir con la condición de encendido espontáneo. Para estimar la condición de autoignición se puede asumir que la temperatura de la pared durante la operación de la caldera es igual a la temperatura de pared calculada durante el arranque. .Se podría proporcionar un ratio de quemado inicial diferente a ϕ = 1,4 y que permita igualmente iniciar la mezcla en modo llama de difusión?"
   ]
  },
  {
   "cell_type": "code",
   "execution_count": 167,
   "id": "97a700b5-0bf2-43a2-a35a-6fc952b27030",
   "metadata": {},
   "outputs": [],
   "source": [
    "Qcombustion_quemador = nCH4_quemados * HF_metano  # Calor total liberado por la combustión del metano quemado, usando su entalpía de formación\n",
    "\n",
    "Qneto_quemador = Qcombustion_quemador * 0.6  # Determina el calor neto disponible, considerando un 60% de eficiencia en el quemador\n",
    "\n",
    "Qdisip_quemador = Qcombustion_quemador * 0.4  # Calcula la cantidad de calor disipado, que corresponde al 40% del total generado\n",
    "\n",
    "Tpared_quemador = T0 + (3.6e-4 * (Qdisip_quemador / (h_caldera * Acaldera)))  # Temperatura de la pared del quemador en función del calor disipado, \n",
    "# usando el coeficiente de transferencia de calor de la caldera (h_caldera) y su área (Acaldera).\n",
    "\n",
    "Tc_quemador = (Ta - np.sqrt(Ta**2 - 4 * Ta * Tpared_quemador)) / 2  # Temperatura crítica (Tc_q) usando una relación cuadrática  que depende de la temperatura ambiente (Ta) y la temperatura de la pared del quemador.\n",
    "\n",
    "# Comprobar que tiene sentido la Tad\n",
    "Tad_quemador = Tpared_quemador + Qneto_quemador / (\n",
    "    ch4.cp_molar(Tpared_quemador) * nCH4_productos_r +  # Contribución del CH4 al calor específico\n",
    "    co2.cp_molar(Tpared_quemador) * nCO2_productos_r +  # Contribución del CO2 al calor específico\n",
    "    h2o.cp_molar(Tpared_quemador) * nH2O_productos_r +  # Contribución del H2O al calor específico\n",
    "    o2.cp_molar(Tpared_quemador) * nO2_productos_r      # Contribución del O2 al calor específico\n",
    ") # Temperatura adiabática del quemador (Tad_quemador), sumando la temperatura de la pared y el calor neto disponible  dividido entre las capacidades caloríficas molar ponderadas de los productos a la temperatura de la pared\n",
    "\n",
    "a = -0.3\n",
    "b = 1.3\n",
    "A0 = 8.3e5\n",
    "\n",
    "EfectoConstanteGases  = Rg * Tc_quemador\n",
    "RelacionEnergiaActivacion  = EA / ((a+b) * Rg * Tc_quemador)\n",
    "ImpactoTransferenciaCalor = (h_caldera * Acaldera / Vcaldera) * (Rg * Tc_quemador**2 / EA)\n",
    "TasaReaccion = Qneto_quemador * A0 * (XCH4_quemados**a) * (XO2_quemados**b)\n",
    "FactorEstequiometrico = (1/(a+b))\n",
    "\n",
    "#Pc_quemador =  EfectoConstanteGases * np.e**RelacionEnergiaActivacion/ ((a+b) * Rg * Tc_quemador) * (ImpactoTransferenciaCalor/TasaReaccion)**FactorEstequiometrico\n",
    "\n",
    "Pc_quemador = EfectoConstanteGases * np.e**RelacionEnergiaActivacion * (ImpactoTransferenciaCalor/TasaReaccion)**FactorEstequiometrico\n",
    "\n",
    "P_caldera = n_total_r*Rg*Tad_quemador/(Vcaldera)"
   ]
  },
  {
   "cell_type": "code",
   "execution_count": 168,
   "id": "b5571080-38b3-4450-abd4-145fe7d6267d",
   "metadata": {},
   "outputs": [
    {
     "name": "stdout",
     "output_type": "stream",
     "text": [
      "Qc =  35031.06198511739\n",
      "Qdisip = 14012.424794046958\n",
      "Tpared = 578.2484958809391\n",
      "Tc = 578.2537896670401\n",
      "Pc_quemador = 8170719.433561254\n",
      "P_caldera = 1384524.7070959536\n",
      "T adiabatica =  4071.930547392985\n"
     ]
    }
   ],
   "source": [
    "print ('Qc = ', Qcombustion_quemador)\n",
    "print ('Qdisip =', Qdisip_quemador)\n",
    "print('Tpared =', Tpared_quemador)\n",
    "print ('Tc =', Tc_quemador)\n",
    "print ('Pc_quemador =', Pc_quemador)\n",
    "print ('P_caldera =', P_caldera)\n",
    "print('T adiabatica = ', Tad_quemador)"
   ]
  },
  {
   "cell_type": "markdown",
   "id": "0170fe7a-d5e7-4e73-ba30-7701045f735a",
   "metadata": {},
   "source": [
    "## Condición de autoignición\n",
    "\n",
    "En este caso, se observa que:\n",
    "\n",
    "**Presión de la caldera < Presión crítica en el quemador**\n",
    "\n",
    "Esto indica que la presión en la caldera no es suficiente para alcanzar la condición de autoignición. Para garantizar que esta condición se cumpla, es necesario que la presión de la caldera sea al menos igual a la presión crítica Pc_quemador. \n",
    "\n",
    "Para lograrlo, se plantean dos posibles estrategias:\n",
    "1. Incrementar la temperatura de la pared.\n",
    "2. Ajustar el dosado de la mezcla.\n",
    "\n",
    "Para ello, modificamos el ratio para poder aumentar el dosado estequiométrico. Aumentandolo de 1.4 a 1.8.\n",
    "\n",
    "Debemos iterar el ratio hasta que: **Presión de la caldera > Presión crítica en el quemador**\n"
   ]
  },
  {
   "cell_type": "code",
   "execution_count": 179,
   "id": "55622949-f98a-41e0-90a5-7d7f4f162da2",
   "metadata": {},
   "outputs": [
    {
     "name": "stdout",
     "output_type": "stream",
     "text": [
      "phi_r inicial:  1.8000000000000003\n",
      "phi_r final:  1.8000000000000003\n"
     ]
    }
   ],
   "source": [
    "print(\"phi_r inicial: \",phi_r)\n",
    "\n",
    "while P_caldera < Pc_quemador:\n",
    "    \n",
    "\n",
    "    f_r = phi_r * f_s  # Calcula el dosado real de la mezcla\n",
    "    #print(f\"dosado (phi={str(phi_r)}) {str(f_r)}\") \n",
    "\n",
    "    n_total_s = P0 * Vcaldera / (Rg * T0)  # Moles totales estequiométricos en la caldera usando la ecuación de los gases ideales\n",
    "\n",
    "    n_total_CH4_s = n_total_s / (1 + (alpha + beta / 4))  # Moles de CH4 en los reactivos estequiométricos dividiendo los moles totales entre la suma de los coeficientes estequiométricos.\n",
    "    N_total_O2_s = n_total_s - n_total_CH4_s # Moles de O2 como la diferencia entre los moles totales y los de CH4\n",
    "\n",
    "    nO2_r = n_total_s / (f_r * (MO2 / MCH4) + 1)  # Moles reales de O2 en reactantes en función del dosado real y las masas molares\n",
    "    nCH4_r = f_r * (MO2 / MCH4) * nO2_r  # Moles de reactantes reales de CH4 en los reactivos a partir de los moles de O2 y el dosado real\n",
    "    n_total_r = nCH4_r + nO2_r  # Moles totales reales de los reactivos, es la suma los moles de CH4 y O2\n",
    "    XCH4_reactantes_r = nCH4_r/n_total_r\n",
    "    XO2_reactantes_r = nO2_r/n_total_r\n",
    "    \n",
    "    n_total__productos_r = n_total_r  # Moles totales en los productos son iguales a los moles totales en los reactivos por conservación de la masa\n",
    "    nCH4_productos_r = n_total__productos_r * XCH4_r  # Moles de CH4 en los productos multiplicando los moles totales por la fracción molar de CH4\n",
    "    nCO2_productos_r = XCO2_r * n_total__productos_r  # Moles de CO2 en los productos\n",
    "    nH2O_productos_r = XH2O_r * n_total__productos_r  # Moles de H2O en los productos\n",
    "    nO2_productos_r = XO2_r * n_total__productos_r  # Moles de O2 en los productos\n",
    "\n",
    "    n_total__productos_r = nCH4_productos_r + nCO2_productos_r + nH2O_productos_r + nO2_productos_r  # Recalcula los moles totales en los productos como la suma de los moles de todas las especies\n",
    "\n",
    "    nO2_quemados = nO2_r - nO2_productos_r  # Moles de O2 quemados como la diferencia entre los moles iniciales en los reactivos y los moles restantes en los productos\n",
    "    print(f'Moles quemados de O2 = %-6.4f' % nO2_quemados)  # Moles de O2 que participaron en la combustión\n",
    "\n",
    "    nCH4_quemados = nCH4_r - nCH4_productos_r  # Moles de CH4 quemados como la diferencia entre los moles iniciales en los reactivos y los moles restantes en los productos\n",
    "    #print(f'Moles quemados de CH4 = %-6.4f' % nCH4_quemados) \n",
    "\n",
    "    nreactivos_quemados = nCH4_quemados + nO2_quemados  # Moles de CH4 y O2 quemados para obtener los moles totales que reaccionaron\n",
    "    #print(f'Moles totales quemados = %-6.4f' % nreactivos_quemados)  \n",
    "\n",
    "    # Fracciones molares de lo quemado:\n",
    "    XCH4_quemados = nCH4_quemados / nreactivos_quemados  # Fracción molar de CH4 quemado dividiendo los moles de CH4 quemados entre los moles totales quemados\n",
    "    XO2_quemados = nO2_quemados / nreactivos_quemados  # Fracción molar de O2 quemado dividiendo los moles de O2 quemados entre los moles totales quemados\n",
    "\n",
    "    #print(f'Fracción molar CH4 quemado = %-6.4f' % XCH4_quemados)  \n",
    "    #print(f'Fracción molar de O2 quemado = %-6.4f' % XO2_quemados)  \n",
    "\n",
    "\n",
    "\n",
    "    Qcombustion_quemador = nCH4_quemados * HF_metano  # Calor total liberado por la combustión del metano quemado, usando su entalpía de formación\n",
    "\n",
    "    Qneto_quemador = Qcombustion_quemador * 0.6  # Determina el calor neto disponible, considerando un 60% de eficiencia en el quemador\n",
    "\n",
    "    Qdisip_quemador = Qcombustion_quemador * 0.4  # Calcula la cantidad de calor disipado, que corresponde al 40% del total generado\n",
    "\n",
    "    Tpared_quemador = T0 + (3.6e-4 * (Qdisip_quemador / (h_caldera * Acaldera)))  # Temperatura de la pared del quemador en función del calor disipado, \n",
    "    # usando el coeficiente de transferencia de calor de la caldera (h_caldera) y su área (Acaldera).\n",
    "\n",
    "    Tc_quemador = (Ta - np.sqrt(Ta**2 - 4 * Ta * Tpared_quemador)) / 2  # Temperatura crítica (Tc_q) usando una relación cuadrática  que depende de la temperatura ambiente (Ta) y la temperatura de la pared del quemador.\n",
    "\n",
    "    # Comprobar que tiene sentido la Tad\n",
    "    Tad_quemador = Tpared_quemador + Qneto_quemador / (\n",
    "        ch4.cp_molar(Tpared_quemador) * nCH4_productos_r +  # Contribución del CH4 al calor específico\n",
    "        co2.cp_molar(Tpared_quemador) * nCO2_productos_r +  # Contribución del CO2 al calor específico\n",
    "        h2o.cp_molar(Tpared_quemador) * nH2O_productos_r +  # Contribución del H2O al calor específico\n",
    "        o2.cp_molar(Tpared_quemador) * nO2_productos_r      # Contribución del O2 al calor específico\n",
    "    ) # Temperatura adiabática del quemador (Tad_quemador), sumando la temperatura de la pared y el calor neto disponible  dividido entre las capacidades caloríficas molar ponderadas de los productos a la temperatura de la pared\n",
    "\n",
    "    a = -0.3\n",
    "    b = 1.3\n",
    "    A0 = 8.3e5\n",
    "\n",
    "    EfectoConstanteGases  = Rg * Tc_quemador\n",
    "    RelacionEnergiaActivacion  = EA / ((a+b) * Rg * Tc_quemador)\n",
    "    ImpactoTransferenciaCalor = (h_caldera * Acaldera / Vcaldera) * (Rg * Tc_quemador**2 / EA)\n",
    "    TasaReaccion = Qneto_quemador * A0 * (XCH4_quemados**a) * (XO2_quemados**b)\n",
    "    FactorEstequiometrico = (1/(a+b))\n",
    "\n",
    "    Pc_quemador = EfectoConstanteGases * np.e**RelacionEnergiaActivacion * (ImpactoTransferenciaCalor/TasaReaccion)**FactorEstequiometrico\n",
    "\n",
    "    P_caldera = n_total_r*Rg*Tad_quemador/(Vcaldera)\n",
    "    print(\"Pc_quemador \", Pc_quemador)\n",
    "    print(\"P_caldera \", P_caldera)\n",
    "    phi_r += 0.1\n",
    "    \n",
    "\n",
    "#phi_r_final = phi_r\n",
    "#phi_1 = phi_0[9]\n",
    "\n",
    "Tad_final = Tad_quemador\n",
    "#Tad_1 = Tad_q[9]\n",
    "\n",
    "Tpared_quemador_final = Tpared_quemador\n",
    "#T_pared_1 = Tpared_q[9]\n",
    "\n",
    "#P_caldera_final = P_caldera\n",
    "#P_caldera_1 = P_caldera[9]\n",
    "\n",
    "Tc_quemador_final = Tc_quemador\n",
    "#Tc_1 = Tc_q[9]\n",
    "\n",
    "#Pc_quemador_final= Pc_quemador\n",
    "#Pc_1 = Pc_q[9]\n",
    "\n",
    "#nCH4_quemados_final = nCH4_quemados\n",
    "#Nq_ch4_1 = Nq_ch4[9]\n",
    "\n",
    "#nO2_quemados_final = nO2_quemados\n",
    "#Nq_o2_1 = Nq_o2[9]\n",
    "\n",
    "#ntotal_quemados_final = n_total__productos_r\n",
    "#NqT_1 = Nq_r[9] \n",
    "\n",
    "nCH4_reactantes_final = nCH4_r\n",
    "#Nr_ch4_1 = Nr_ch4[9]\n",
    "\n",
    "nO2_reactantes_final = nO2_r\n",
    "#Nr_o2_1 = Nr_o2[9]\n",
    "\n",
    "n_total_r_final = n_total_r\n",
    "#NrT_1 = NrT[9] \n",
    "\n",
    "XCH4_reactantes_r_final = XCH4_reactantes_r\n",
    "#Xr_ch4_1 = Xr_ch4[9]\n",
    "\n",
    "XO2_reactantes_r_final = XO2_reactantes_r\n",
    "#Xr_o2_1 = Xr_o2[9]\n",
    "\n",
    "\n",
    "print(\"phi_r final: \",phi_r)"
   ]
  },
  {
   "cell_type": "markdown",
   "id": "02b20573-61e0-42a0-b0fe-a160c4e0f8b3",
   "metadata": {},
   "source": [
    "#### Solución\n",
    "\n",
    "En este caso sí cumplimos la condición de:\n",
    "\n",
    "**Presión de la caldera < Presión crítica en el quemador**"
   ]
  },
  {
   "cell_type": "markdown",
   "id": "fed707d4-c04b-4367-b97e-2f86640e3812",
   "metadata": {},
   "source": [
    "### 4) Calcular el área del cambiador de calor para que se cumpla el criterio de temperaturas en el mezclador"
   ]
  },
  {
   "cell_type": "code",
   "execution_count": 181,
   "id": "95a6d689-9097-4682-8cc9-46ef69b58ff8",
   "metadata": {},
   "outputs": [
    {
     "name": "stdout",
     "output_type": "stream",
     "text": [
      "Q_cambiadorCalor=  -27500\n",
      "h_cambiadorCalor=  35\n",
      "Tpared_quemador_final=  628.2988280773536\n",
      "Tad_final=  4638.9958277208325\n",
      "Area del Cambiador de Calor (m2) = 0.19590467337326398\n"
     ]
    }
   ],
   "source": [
    "Acc = Q_cambiadorCalor/(h_cambiadorCalor*(Tpared_quemador_final - Tad_final))\n",
    "print(\"Q_cambiadorCalor= \"  ,Q_cambiadorCalor)\n",
    "print(\"h_cambiadorCalor= \"  ,h_cambiadorCalor)\n",
    "print(\"Tpared_quemador_final= \"  ,Tpared_quemador_final)\n",
    "print(\"Tad_final= \"  ,Tad_final)\n",
    "print (f'Area del Cambiador de Calor (m2) = '+ str(Acc))"
   ]
  },
  {
   "cell_type": "markdown",
   "id": "7a09f026-60c7-4899-b49c-d8529d49a317",
   "metadata": {},
   "source": [
    "### 5) El retraso máximo que puede producirse entre la bujía (inicio de la  llama de premezcla) y el cierre de la escotilla (8) si se quiere que no escapen productos al ambiente"
   ]
  },
  {
   "cell_type": "code",
   "execution_count": 183,
   "id": "cf41ce03-d844-4745-8e8f-3e436893d2c0",
   "metadata": {},
   "outputs": [
    {
     "name": "stdout",
     "output_type": "stream",
     "text": [
      "Velocidad de la reacción = 0.2865\n",
      "Tiempo de reacción es = 6.5584e-05\n",
      "Velocidad del frente de llama = 1.8049\n",
      "Tiempo para cerrar la válvula = 0.1108\n"
     ]
    }
   ],
   "source": [
    "# Apartado 5\n",
    "\n",
    "# Coeficientes y cálculo de la conductividad térmica para CH4\n",
    "c0_ch4 = -9.1780e-3  # Coeficiente constante para CH4\n",
    "c1_ch4 = 1.5964e-4  # Coeficiente lineal para CH4\n",
    "c2_ch4 = -3.4571e-8  # Coeficiente cuadrático para CH4\n",
    "c3_ch4 = 2.0839e-12  # Coeficiente cúbico para CH4\n",
    "k_ch4 = c0_ch4 + c1_ch4 * T0 + c2_ch4 * T0**2 + c3_ch4 * T0**3  \n",
    "# Calcula la conductividad térmica de CH4 (\\(k_{CH4}\\)) en función de la temperatura inicial \\(T0\\).\n",
    "\n",
    "# Coeficientes y cálculo de la conductividad térmica para O2\n",
    "c0_o2 = 5.9101e-4  # Coeficiente constante para O2\n",
    "c1_o2 = 1.0460e-4  # Coeficiente lineal para O2\n",
    "c2_o2 = -3.7985e-8  # Coeficiente cuadrático para O2\n",
    "c3_o2 = 7.372e-12  # Coeficiente cúbico para O2\n",
    "k_o2 = c0_o2 + c1_o2 * T0 + c2_o2 * T0**2 + c3_o2 * T0**3  # Conductividad térmica de O2 (\\(k_{O2}\\)) en función de la temperatura inicial \\(T0\\).\n",
    "\n",
    "# Conductividad térmica media ponderada\n",
    "k_med = (k_ch4 * nCH4_reactantes_final + k_o2 * nO2_reactantes_final) / n_total_r_final # Conductividad térmica promedio ponderada, teniendo en cuenta la cantidad de CH4 y O2 presentes en los reactivos finales.\n",
    "\n",
    "# Cálculo de densidad del gas\n",
    "rho = P0 / (T0 * 287)  # Densidad (\\(\\rho\\)) del gas, usando la ecuación de estado de los gases ideales con una constante específica.\n",
    "\n",
    "# Calor específico promedio\n",
    "cp_med = ch4.cp_molar(T0) * (XCH4_reactantes_r_final / MCH4) + o2.cp_molar(T0) * (XO2_reactantes_r_final / MO2)  \n",
    "\n",
    "# Difusividad térmica\n",
    "alpha_c = k_med / (cp_med * rho)  \n",
    "\n",
    "# Temperatura media del quemador\n",
    "T_med = (Tad_final + Tpared_quemador_final) / 2  \n",
    "\n",
    "# Velocidad de reacción\n",
    "rf = A0 * np.exp(-EA / (1600 * Rg)) * XCH4_reactantes_r_final**a * XO2_reactantes_r_final**b * (P0 * 0.001 / (1600 * Rg))**(a + b)  \n",
    "\n",
    "# Tiempo de reacción\n",
    "tq = ((XCH4_reactantes_r_final * P0 * 0.001 / (Rg * T0))) * 0.001 / rf  \n",
    "\n",
    "# Velocidad del frente de llama\n",
    "Sl = np.sqrt((alpha_c * (Tad_final - Tc_quemador_final)) / (tq * (Tc_quemador_final - T0)))  \n",
    "\n",
    "# Tiempo para cerrar la válvula\n",
    "t = Lcaldera / Sl  \n",
    "\n",
    "# Resultados\n",
    "print(f'Velocidad de la reacción = %2.4f' % rf)\n",
    "print(f'Tiempo de reacción es = %2.4e' % tq)\n",
    "print(f'Velocidad del frente de llama = %2.4f' % Sl)  \n",
    "print(f'Tiempo para cerrar la válvula = %2.4f' % t)  \n"
   ]
  },
  {
   "cell_type": "markdown",
   "id": "ee0cbe7a-4d10-41d6-88dd-c79d97a97331",
   "metadata": {},
   "source": [
    "## Conclusiones\n",
    "\n",
    "A lo largo del análisis se han obtenido diversos resultados en cada uno de los apartados que han permitido extraer conclusiones importantes para el desarrollo del problema.\n",
    "\n",
    "En el primer apartado, se observó que las temperaturas calculadas eran demasiado elevadas, lo que indicaba una falta de coherencia física en los resultados iniciales. A pesar de esto, decidimos continuar con los cálculos en los apartados posteriores, ya que en el segundo apartado se modificaron las condiciones de dosado, y estos valores no impactarían significativamente el resto del análisis. Cabe señalar que, de haberse aplicado una corrección aproximada de 1000 K para el dosado unidad, los resultados habrían sido más razonables. Por otro lado, fue consistente con la realidad el hecho de que la temperatura máxima se alcanzara en el dosado unidad, y el escalado de temperaturas presentara un comportamiento lógico.\n",
    "\n",
    "En el segundo apartado, tomamos una decisión clave: considerar únicamente la fracción de combustible efectivamente quemado, en lugar de asumir que todo el combustible participa en la reacción. Esta elección se justificó al comprobar que la proporción de oxígeno consumido era coherente estequiométricamente con la de \\(CH_4\\). Aunque en teoría, en un sistema perfectamente mezclado y en equilibrio estacionario, todos los reactivos deberían reaccionar, en la práctica sabemos que las condiciones de combustión no son perfectas, lo que respalda esta aproximación.\n",
    "\n",
    "En el tercer apartado, se encontró que las condiciones iniciales no eran adecuadas para mantener una llama de difusión. Sin embargo, ajustando ligeramente el ratio combustible-comburente, se logró obtener las condiciones necesarias para que la combustión fuera efectiva. Estos ajustes también resultaron beneficiosos para el rendimiento de la máquina, cumpliéndose la relación esperada entre la presión de la caldera y la presión crítica.\n",
    "\n",
    "En el cuarto apartado, se verificó que los resultados obtenidos eran compatibles con un diseño típico de intercambiador de calor. Esto implica que no se requiere un espacio excesivo para alojar el dispositivo, lo que es adecuado desde un punto de vista práctico.\n",
    "\n",
    "Finalmente, en el quinto apartado, se calculó un tiempo de reacción que coincide con valores realistas, permitiendo garantizar que la válvula de escape pueda cerrarse sin liberar productos no deseados al ambiente. Este tiempo se ajusta bien a las características operativas de un sistema eléctrico que trabaja en conjunto con el proceso de combustión.\n"
   ]
  }
 ],
 "metadata": {
  "kernelspec": {
   "display_name": "Python 3 (ipykernel)",
   "language": "python",
   "name": "python3"
  },
  "language_info": {
   "codemirror_mode": {
    "name": "ipython",
    "version": 3
   },
   "file_extension": ".py",
   "mimetype": "text/x-python",
   "name": "python",
   "nbconvert_exporter": "python",
   "pygments_lexer": "ipython3",
   "version": "3.12.4"
  }
 },
 "nbformat": 4,
 "nbformat_minor": 5
}
